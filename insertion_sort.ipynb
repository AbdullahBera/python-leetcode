{
 "cells": [
  {
   "cell_type": "code",
   "execution_count": 1,
   "id": "e594c774",
   "metadata": {},
   "outputs": [],
   "source": [
    "def insertion_sort(array): \n",
    "    \n",
    "    \n",
    "    # We start from 1 since the first element is trivially sorted \n",
    "    for index in range(1, len(array)): \n",
    "        currentValue = array[index]\n",
    "        currentPosition = index \n",
    "        \n",
    "        while currentPosition > 0 and array[currentPosition - 1] > currentValue: \n",
    "            array[currentPosition] = array[currentPosition - 1]\n",
    "            currentPosition = currentPosition -1 \n",
    "            \n",
    "        array[currentPosition] = currentValue"
   ]
  },
  {
   "cell_type": "code",
   "execution_count": 3,
   "id": "901a8d38",
   "metadata": {},
   "outputs": [
    {
     "name": "stdout",
     "output_type": "stream",
     "text": [
      "Sorted Array: [2, 5, 12, 16, 21, 36, 62, 77, 78, 672]\n"
     ]
    }
   ],
   "source": [
    "array = [21, 12, 5, 16, 62, 672, 77, 2, 36, 78]\n",
    "\n",
    "insertion_sort(array)\n",
    "\n",
    "print(\"Sorted Array: \" + str(array))"
   ]
  }
 ],
 "metadata": {
  "kernelspec": {
   "display_name": "PythonData",
   "language": "python",
   "name": "pythondata"
  },
  "language_info": {
   "codemirror_mode": {
    "name": "ipython",
    "version": 3
   },
   "file_extension": ".py",
   "mimetype": "text/x-python",
   "name": "python",
   "nbconvert_exporter": "python",
   "pygments_lexer": "ipython3",
   "version": "3.7.10"
  }
 },
 "nbformat": 4,
 "nbformat_minor": 5
}
