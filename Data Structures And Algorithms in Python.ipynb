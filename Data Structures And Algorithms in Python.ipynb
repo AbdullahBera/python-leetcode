{
 "cells": [
  {
   "cell_type": "code",
   "execution_count": 1,
   "id": "76c1aaf1",
   "metadata": {},
   "outputs": [
    {
     "name": "stdout",
     "output_type": "stream",
     "text": [
      "g\n",
      "Bob\n",
      "Omar\n"
     ]
    }
   ],
   "source": [
    "# string \n",
    "\n",
    "x = 'frog'\n",
    "print(x[3])\n",
    "\n",
    "# Lists \n",
    "names = ['Ali', 'Jeff', 'Tom', 'Bob']\n",
    "print(names[3])\n",
    "\n",
    "\n",
    "#Tuples \n",
    "\n",
    "y = ('Kevin', 'Ilhan', 'Omar', 'Fatma')\n",
    "\n",
    "print(y[2])\n"
   ]
  },
  {
   "cell_type": "code",
   "execution_count": 2,
   "id": "7b889dc5",
   "metadata": {},
   "outputs": [
    {
     "name": "stdout",
     "output_type": "stream",
     "text": [
      "mpu\n",
      "opt\n",
      "mputer\n",
      "compu\n",
      "compute\n"
     ]
    }
   ],
   "source": [
    "#string \n",
    "\n",
    "x = 'computer'\n",
    "\n",
    "print(x[2:5])\n",
    "print(x[1:6:2])\n",
    "print(x[2:])\n",
    "print(x[:5])\n",
    "print(x[:-1])"
   ]
  },
  {
   "cell_type": "markdown",
   "id": "9763c806",
   "metadata": {},
   "source": [
    "# combine 2 sequences of the same type using +"
   ]
  },
  {
   "cell_type": "code",
   "execution_count": 3,
   "id": "0b59153b",
   "metadata": {},
   "outputs": [
    {
     "name": "stdout",
     "output_type": "stream",
     "text": [
      "Horseshoe\n",
      "['cow', 'dog', 'cat']\n",
      "('sheep', 'goat', 'chicken')\n"
     ]
    }
   ],
   "source": [
    "# String \n",
    "x = \"Horse\" + \"shoe\"\n",
    "print(x)\n",
    "\n",
    "#list \n",
    "y = [\"cow\", \"dog\"] + [\"cat\"]\n",
    "print(y)\n",
    "\n",
    "\n",
    "#tuple \n",
    "\n",
    "z = (\"sheep\", \"goat\") + (\"chicken\",)\n",
    "\n",
    "print(z)"
   ]
  },
  {
   "cell_type": "markdown",
   "id": "dcefb072",
   "metadata": {},
   "source": [
    "# Multiply a sequence by *"
   ]
  },
  {
   "cell_type": "code",
   "execution_count": 4,
   "id": "152b9e77",
   "metadata": {},
   "outputs": [
    {
     "name": "stdout",
     "output_type": "stream",
     "text": [
      "bingobingobingo\n",
      "[1, 2, 3, 1, 2, 3, 1, 2, 3]\n",
      "(1997, 2021, 1997, 2021)\n"
     ]
    }
   ],
   "source": [
    "# string \n",
    "\n",
    "x = 'bingo'*3\n",
    "print(x)\n",
    "\n",
    "#list\n",
    "y = [1,2,3] * 3 \n",
    "print(y)\n",
    "\n",
    "#tuple\n",
    "z = (1997, 2021) *2\n",
    "print(z)"
   ]
  },
  {
   "cell_type": "markdown",
   "id": "ab3c74db",
   "metadata": {},
   "source": [
    "# Test whether an item is or is not in a sequence"
   ]
  },
  {
   "cell_type": "code",
   "execution_count": 5,
   "id": "8cf29d20",
   "metadata": {},
   "outputs": [
    {
     "name": "stdout",
     "output_type": "stream",
     "text": [
      "True\n",
      "False\n",
      "False\n"
     ]
    }
   ],
   "source": [
    "# string \n",
    "x = 'bug'\n",
    "\n",
    "print('u' in x)\n",
    "\n",
    "\n",
    "#list \n",
    "y = ['car', 'truck', 'train', 'plane']\n",
    "\n",
    "print('plane' not in y )\n",
    "\n",
    "#tuple \n",
    "z = ('cat', 'dog', 'snake', 'owl')\n",
    "\n",
    "print('car' in z)"
   ]
  },
  {
   "cell_type": "markdown",
   "id": "1098aef1",
   "metadata": {},
   "source": [
    "# Iterating through the items in the list\n",
    " \n",
    " "
   ]
  },
  {
   "cell_type": "code",
   "execution_count": 7,
   "id": "1a5753dd",
   "metadata": {},
   "outputs": [
    {
     "name": "stdout",
     "output_type": "stream",
     "text": [
      "1\n",
      "4\n",
      "6\n",
      "7\n",
      "0 2\n",
      "1 4\n",
      "2 5\n",
      "3 5\n",
      "4 6\n",
      "5 7\n"
     ]
    }
   ],
   "source": [
    "# item \n",
    "x = [1, 4, 6, 7]\n",
    "for item in x:\n",
    "    print(item)\n",
    "    \n",
    "# item and index \n",
    "\n",
    "y = [2, 4, 5, 5, 6, 7]\n",
    "\n",
    "for index, item in enumerate(y):\n",
    "    print(index, item)"
   ]
  },
  {
   "cell_type": "markdown",
   "id": "ea06a8ed",
   "metadata": {},
   "source": [
    "# Count number of items in a sequence "
   ]
  },
  {
   "cell_type": "code",
   "execution_count": 10,
   "id": "7c322b28",
   "metadata": {},
   "outputs": [
    {
     "name": "stdout",
     "output_type": "stream",
     "text": [
      "8\n",
      "5\n",
      "3\n"
     ]
    }
   ],
   "source": [
    "#string \n",
    "\n",
    "x = 'hospital'\n",
    "\n",
    "print(len(x))\n",
    "\n",
    "#list \n",
    "\n",
    "y = ['cow', 'dog', 'cat', 'fog', 'snake']\n",
    "\n",
    "print(len(y))\n",
    "\n",
    "#tuple \n",
    "\n",
    "c = ('animals', 'trees', 'insects')\n",
    "\n",
    "print(len(c))"
   ]
  },
  {
   "cell_type": "markdown",
   "id": "1ece0467",
   "metadata": {},
   "source": [
    "# find the minimum item in a list lexicographically \n"
   ]
  },
  {
   "cell_type": "code",
   "execution_count": 17,
   "id": "84432c11",
   "metadata": {},
   "outputs": [
    {
     "name": "stdout",
     "output_type": "stream",
     "text": [
      "a\n",
      "s\n",
      "bee\n",
      "dog\n",
      "house\n",
      "tree\n"
     ]
    }
   ],
   "source": [
    "x = \"animals\"\n",
    "\n",
    "print(min(x))\n",
    "print(max(x))\n",
    "\n",
    "y = ['camel', 'dog', 'bee', 'cat']\n",
    "print(min(y))\n",
    "print(max(y))\n",
    "\n",
    "v = ('house', 'tree', 'jack')\n",
    "print(min(v))\n",
    "print(max(v))"
   ]
  },
  {
   "cell_type": "markdown",
   "id": "f568bd98",
   "metadata": {},
   "source": [
    "# Sum the values in a sequence "
   ]
  },
  {
   "cell_type": "code",
   "execution_count": 20,
   "id": "819b46d4",
   "metadata": {},
   "outputs": [
    {
     "name": "stdout",
     "output_type": "stream",
     "text": [
      "29\n",
      "11\n",
      "29\n"
     ]
    }
   ],
   "source": [
    "y = [9, 4, 3, 2, 5 , 6]\n",
    "print(sum(y))\n",
    "print(sum(y[-2:]))\n",
    "\n",
    "z = (8, 1, 2, 3, 4, 5 )\n",
    "print(sum(y))"
   ]
  },
  {
   "cell_type": "markdown",
   "id": "5ba7be5e",
   "metadata": {},
   "source": [
    "# Sorting - returns a new list of items in sorted order "
   ]
  },
  {
   "cell_type": "code",
   "execution_count": 26,
   "id": "e098b423",
   "metadata": {},
   "outputs": [
    {
     "name": "stdout",
     "output_type": "stream",
     "text": [
      "['a', 'a', 'i', 'l', 'm', 'n', 's']\n",
      "['bee', 'camel', 'cat', 'dog', 'house', 'jack', 'tree']\n",
      "['house', 'jack', 'tree']\n"
     ]
    }
   ],
   "source": [
    "x = \"animals\"\n",
    "print(sorted(x))\n",
    "\n",
    "y = ['camel', 'dog', 'bee', 'cat','house', 'tree', 'jack']\n",
    "print(sorted(y))\n",
    "\n",
    "v = ('house', 'tree', 'jack')\n",
    "print(sorted(v))\n"
   ]
  },
  {
   "cell_type": "markdown",
   "id": "5f6687ec",
   "metadata": {},
   "source": [
    "# Sort by a second letter "
   ]
  },
  {
   "cell_type": "code",
   "execution_count": 29,
   "id": "5b4faeac",
   "metadata": {},
   "outputs": [
    {
     "name": "stdout",
     "output_type": "stream",
     "text": [
      "['camel', 'cat', 'jack', 'bee', 'dog', 'house', 'tree']\n"
     ]
    }
   ],
   "source": [
    "z = ['camel', 'dog', 'bee', 'cat','house', 'tree', 'jack']\n",
    "\n",
    "print(sorted(z, key = lambda k: k[1]))"
   ]
  },
  {
   "cell_type": "code",
   "execution_count": 65,
   "id": "3a36215f",
   "metadata": {},
   "outputs": [
    {
     "name": "stdout",
     "output_type": "stream",
     "text": [
      "[3, 4, 5, 5, 6, 6, 7, 7, 1212]\n"
     ]
    }
   ],
   "source": [
    "# sort the list in place\n",
    "\n",
    "i = [3, 1212, 4, 5, 5, 6, 6, 7, 7]\n",
    "i.sort()\n",
    "print(i)"
   ]
  },
  {
   "cell_type": "markdown",
   "id": "ed0613ac",
   "metadata": {},
   "source": [
    "# Count the number of elements "
   ]
  },
  {
   "cell_type": "code",
   "execution_count": 34,
   "id": "f470b5c5",
   "metadata": {},
   "outputs": [
    {
     "name": "stdout",
     "output_type": "stream",
     "text": [
      "1\n",
      "3\n",
      "1\n"
     ]
    }
   ],
   "source": [
    "x = 'courtesy'\n",
    "\n",
    "print(x.count('s'))\n",
    "\n",
    "\n",
    "z = ['camel', 'dog', 'bee', 'cat','house', 'tree', 'jack', 'camel', 'camel']\n",
    "print(z.count('camel'))\n",
    "\n",
    "y = ('house', 'tree', 'jack')\n",
    "print(y.count('tree'))"
   ]
  },
  {
   "cell_type": "markdown",
   "id": "ebebdaf8",
   "metadata": {},
   "source": [
    "# return first index of an item "
   ]
  },
  {
   "cell_type": "code",
   "execution_count": 37,
   "id": "143210da",
   "metadata": {},
   "outputs": [
    {
     "name": "stdout",
     "output_type": "stream",
     "text": [
      "0\n",
      "5\n",
      "2\n"
     ]
    }
   ],
   "source": [
    "x = 'courtesy'\n",
    "print(x.index('c'))\n",
    "\n",
    "z = ['camel', 'dog', 'bee', 'cat','house', 'tree', 'jack', 'camel', 'camel']\n",
    "print(z.index('tree'))\n",
    "\n",
    "y = ('house', 'tree', 'jack')\n",
    "print(y.index('jack'))"
   ]
  },
  {
   "cell_type": "markdown",
   "id": "0e53e185",
   "metadata": {},
   "source": [
    "# unpack the n items of a sequence into n variable \n",
    "\n"
   ]
  },
  {
   "cell_type": "code",
   "execution_count": 39,
   "id": "c7bc1f10",
   "metadata": {},
   "outputs": [
    {
     "name": "stdout",
     "output_type": "stream",
     "text": [
      "camel dog bee\n"
     ]
    }
   ],
   "source": [
    "x = ['camel', 'dog', 'bee']\n",
    "\n",
    "a, b, c = x \n",
    "\n",
    "print(a, b, c )"
   ]
  },
  {
   "cell_type": "markdown",
   "id": "da0a7d0d",
   "metadata": {},
   "source": [
    "# Lists"
   ]
  },
  {
   "cell_type": "code",
   "execution_count": 45,
   "id": "dc77798b",
   "metadata": {},
   "outputs": [
    {
     "name": "stdout",
     "output_type": "stream",
     "text": [
      "[45, 82]\n"
     ]
    }
   ],
   "source": [
    "# you can create an empty list \n",
    "\n",
    "x = list()\n",
    "\n",
    "y = [3, 'dog', 2.44]\n",
    "\n",
    "tuples = (45, 82)\n",
    "\n",
    "z = list(tuples)\n",
    "print(z)\n"
   ]
  },
  {
   "cell_type": "code",
   "execution_count": 47,
   "id": "841bd40f",
   "metadata": {},
   "outputs": [
    {
     "name": "stdout",
     "output_type": "stream",
     "text": [
      "[0, 1, 2, 3, 4, 5, 6, 7, 8, 9]\n",
      "[25, 36, 49, 64, 81]\n"
     ]
    }
   ],
   "source": [
    "# list comprehension \n",
    "\n",
    "a = [m for m in range(10)]\n",
    "print(a)\n",
    "\n",
    "b = [i**2 for i in range(10) if i>4]\n",
    "print(b)"
   ]
  },
  {
   "cell_type": "markdown",
   "id": "c2972dea",
   "metadata": {},
   "source": [
    "# Delete element in list"
   ]
  },
  {
   "cell_type": "code",
   "execution_count": 51,
   "id": "178213e6",
   "metadata": {},
   "outputs": [
    {
     "name": "stdout",
     "output_type": "stream",
     "text": [
      "[3, 5, 5, 6, 6, 7, 7]\n"
     ]
    }
   ],
   "source": [
    "x = [3, 4, 5, 5, 6, 6, 7, 7]\n",
    "\n",
    "del x[1]\n",
    "\n",
    "print(x)\n",
    "\n",
    "del x"
   ]
  },
  {
   "cell_type": "markdown",
   "id": "84e5f91a",
   "metadata": {},
   "source": [
    "# Append a list "
   ]
  },
  {
   "cell_type": "code",
   "execution_count": 53,
   "id": "329bece2",
   "metadata": {
    "scrolled": true
   },
   "outputs": [
    {
     "name": "stdout",
     "output_type": "stream",
     "text": [
      "[3, 4, 5, 5, 6, 6, 7, 7, 32]\n"
     ]
    }
   ],
   "source": [
    "x = [3, 4, 5, 5, 6, 6, 7, 7]\n",
    "\n",
    "x.append(32)\n",
    "\n",
    "print(x)"
   ]
  },
  {
   "cell_type": "code",
   "execution_count": 54,
   "id": "de97040d",
   "metadata": {},
   "outputs": [
    {
     "name": "stdout",
     "output_type": "stream",
     "text": [
      "[3, 4, 5, 5, 6, 6, 7, 7, 12, 45, 54, 32, 52]\n"
     ]
    }
   ],
   "source": [
    "x = [3, 4, 5, 5, 6, 6, 7, 7]\n",
    "\n",
    "y = [12, 45, 54, 32, 52]\n",
    "\n",
    "x.extend(y)\n",
    "print(x)"
   ]
  },
  {
   "cell_type": "markdown",
   "id": "048b09dc",
   "metadata": {},
   "source": [
    "# Insert values in a list "
   ]
  },
  {
   "cell_type": "code",
   "execution_count": 57,
   "id": "b4db6664",
   "metadata": {},
   "outputs": [
    {
     "name": "stdout",
     "output_type": "stream",
     "text": [
      "[3, 1212, 4, 5, 5, 6, 6, 7, 7]\n",
      "[3, ['ak', 'po'], 1212, 4, 5, 5, 6, 6, 7, 7]\n"
     ]
    }
   ],
   "source": [
    "x = [3, 4, 5, 5, 6, 6, 7, 7]\n",
    "\n",
    "x.insert(1, 1212)\n",
    "\n",
    "print(x)\n",
    "\n",
    "\n",
    "x.insert(1, ['ak', 'po'])\n",
    "print(x)"
   ]
  },
  {
   "cell_type": "markdown",
   "id": "05dc4c20",
   "metadata": {},
   "source": [
    "# Pop item of list "
   ]
  },
  {
   "cell_type": "code",
   "execution_count": 59,
   "id": "8c9cb7f4",
   "metadata": {},
   "outputs": [
    {
     "name": "stdout",
     "output_type": "stream",
     "text": [
      "[2, 121, 14, 54]\n",
      "65\n"
     ]
    }
   ],
   "source": [
    "x = [2, 121, 14, 54, 65]\n",
    "\n",
    "x_popped = x.pop()\n",
    "\n",
    "print(x)\n",
    "print(x_popped)"
   ]
  },
  {
   "cell_type": "markdown",
   "id": "160b6ae6",
   "metadata": {},
   "source": [
    "# Remove first instance of an item "
   ]
  },
  {
   "cell_type": "code",
   "execution_count": 61,
   "id": "b68b9e90",
   "metadata": {},
   "outputs": [
    {
     "name": "stdout",
     "output_type": "stream",
     "text": [
      "[3, 4, 5, 6, 6, 7, 7]\n"
     ]
    }
   ],
   "source": [
    "x = [3, 4, 5, 5, 6, 6, 7, 7]\n",
    "\n",
    "x.remove(5)\n",
    "\n",
    "print(x)"
   ]
  },
  {
   "cell_type": "markdown",
   "id": "069823d8",
   "metadata": {},
   "source": [
    "# Reverse the order of the list"
   ]
  },
  {
   "cell_type": "code",
   "execution_count": 62,
   "id": "63760261",
   "metadata": {},
   "outputs": [
    {
     "name": "stdout",
     "output_type": "stream",
     "text": [
      "[7, 7, 6, 6, 5, 5, 4, 1212, 3]\n"
     ]
    }
   ],
   "source": [
    "v = [3, 1212, 4, 5, 5, 6, 6, 7, 7]\n",
    "\n",
    "v.reverse()\n",
    "\n",
    "print(v)"
   ]
  },
  {
   "cell_type": "code",
   "execution_count": 66,
   "id": "283f50f3",
   "metadata": {},
   "outputs": [
    {
     "name": "stdout",
     "output_type": "stream",
     "text": [
      "[1212, 7, 7, 6, 6, 5, 5, 4, 3]\n"
     ]
    }
   ],
   "source": [
    "#sort items in descending order \n",
    "\n",
    "v = [3, 1212, 4, 5, 5, 6, 6, 7, 7]\n",
    "\n",
    "v.sort(reverse = True)\n",
    "\n",
    "print(v)"
   ]
  },
  {
   "cell_type": "markdown",
   "id": "7b5bddaf",
   "metadata": {},
   "source": [
    "# Tuples\n",
    "\n",
    "- Immutable \n",
    "- Useful for fixed data \n",
    "- Faster than lists \n",
    "- Sequence type "
   ]
  },
  {
   "cell_type": "code",
   "execution_count": 68,
   "id": "85a6ead3",
   "metadata": {},
   "outputs": [
    {
     "name": "stdout",
     "output_type": "stream",
     "text": [
      "(5,) <class 'tuple'>\n",
      "(1, 2, 3) <class 'tuple'>\n"
     ]
    }
   ],
   "source": [
    "x = ()\n",
    "\n",
    "x = (1,2, 3)\n",
    "\n",
    "y =1, 2, 3\n",
    "\n",
    "v = 5, \n",
    "\n",
    "print(v, type (v))\n",
    "\n",
    "list1= [1,2,3]\n",
    "\n",
    "x = tuple(list1)\n",
    "\n",
    "print(x, type(x))"
   ]
  },
  {
   "cell_type": "code",
   "execution_count": 5,
   "id": "6d20e080",
   "metadata": {},
   "outputs": [
    {
     "name": "stdout",
     "output_type": "stream",
     "text": [
      "(1, 2, 3)\n",
      "([1, 2], 5)\n",
      "([1], 5)\n",
      "([1], 5, 4)\n"
     ]
    }
   ],
   "source": [
    "# tuples are immutable, but member objects may be mutable\n",
    "\n",
    "x = (1, 2, 3)\n",
    "\n",
    "print(x)\n",
    "\n",
    "y= ([1, 2], 5)\n",
    "print(y)\n",
    "del(y[0] [1])\n",
    "print(y)\n",
    "\n",
    "y += 4,\n",
    "\n",
    "print(y)"
   ]
  },
  {
   "cell_type": "markdown",
   "id": "6296cb8a",
   "metadata": {},
   "source": [
    "# Sets \n",
    "\n",
    "- Store non-duplicate items \n",
    "- Very fast access vs lists \n",
    "- Math Set ops \n",
    "- Sets are unordered "
   ]
  },
  {
   "cell_type": "code",
   "execution_count": 8,
   "id": "59bc52e3",
   "metadata": {},
   "outputs": [
    {
     "name": "stdout",
     "output_type": "stream",
     "text": [
      "{3, 4, 5, 6}\n",
      "set()\n",
      "{1, 2, 3, 4, 5, 6}\n"
     ]
    }
   ],
   "source": [
    "x = {4, 5, 3, 3, 4, 5, 6, 6}\n",
    "print(x)\n",
    "\n",
    "y = set()\n",
    "print(y)\n",
    "\n",
    "lists = [1, 2, 3, 4, 5, 6]\n",
    "print(set(lists))"
   ]
  },
  {
   "cell_type": "code",
   "execution_count": 18,
   "id": "8c819a6a",
   "metadata": {},
   "outputs": [
    {
     "name": "stdout",
     "output_type": "stream",
     "text": [
      "{3, 4, 5, 6, 8}\n",
      "{3, 5, 6, 8}\n",
      "4\n",
      "True\n",
      "False\n",
      "3 {5, 6, 8}\n",
      "set()\n"
     ]
    }
   ],
   "source": [
    "x = {4, 5, 3, 3, 4, 5, 6, 6}\n",
    "x.add(8)\n",
    "print(x)\n",
    "\n",
    "x.remove(4)\n",
    "print(x)\n",
    "\n",
    "print(len(x))\n",
    "\n",
    "print(5 in x)\n",
    "\n",
    "print(3 not in x)\n",
    "\n",
    "print(x.pop(), x)\n",
    "\n",
    "\n",
    "x.clear()\n",
    "print(x)"
   ]
  },
  {
   "cell_type": "markdown",
   "id": "ad5a3850",
   "metadata": {},
   "source": [
    "# Mathematical Operations \n",
    "\n",
    "- intersection (AND) set1 & set2 \n",
    "- union (OR) set1 | set2\n",
    "- symmetric difference set1 ^ set2 difference (in set1 but not set2) set1 - set2 \n",
    "- subset set1 <= set2\n",
    "- superset set1 >= set2 "
   ]
  },
  {
   "cell_type": "code",
   "execution_count": 30,
   "id": "a943a989",
   "metadata": {},
   "outputs": [
    {
     "name": "stdout",
     "output_type": "stream",
     "text": [
      "{2, 3}\n",
      "{1, 2, 3, 4, 8, 9}\n",
      "{1, 4, 8, 9}\n",
      "{8, 9, 4}\n",
      "{1}\n",
      "False\n",
      "False\n",
      "False\n",
      "False\n"
     ]
    }
   ],
   "source": [
    "s1 = {1, 2, 3}\n",
    "s2 = {3, 2, 4, 8, 9}\n",
    "\n",
    "print(s1 & s2)\n",
    "print(s1 | s2)\n",
    "print(s1 ^ s2)\n",
    "print(s2 - s1)\n",
    "print(s1 - s2)\n",
    "\n",
    "print(s1 <= s2)\n",
    "print(s2 <= s1)\n",
    "\n",
    "print(s1 >= s2)\n",
    "print(s2 >= s1)"
   ]
  },
  {
   "cell_type": "markdown",
   "id": "d31fb6c6",
   "metadata": {},
   "source": [
    "# Dictionaries \n",
    "\n",
    "- key/value pairs \n",
    "- dicts are unorders "
   ]
  },
  {
   "cell_type": "code",
   "execution_count": 35,
   "id": "eed55764",
   "metadata": {},
   "outputs": [
    {
     "name": "stdout",
     "output_type": "stream",
     "text": [
      "{'beef': 23.5, 'lamb': 43.32, 'chiken': 21.21}\n"
     ]
    }
   ],
   "source": [
    "# three different ways of creating dictionaries\n",
    "\n",
    "x = {'beef': 23.50, 'lamb': 43.21, 'chiken': 12.50}\n",
    "\n",
    "x = dict([('beef', 23.50), ('lamb', 43.21), ('chiken', 12.50)])\n",
    "\n",
    "x = dict(beef = 23.50, lamb = 43.32, chiken = 21.21)\n",
    "print(x)"
   ]
  },
  {
   "cell_type": "code",
   "execution_count": 47,
   "id": "33f48fb9",
   "metadata": {},
   "outputs": [
    {
     "name": "stdout",
     "output_type": "stream",
     "text": [
      "{'shrimp': 45}\n",
      "{}\n",
      "{'beef': 55.22}\n",
      "1\n",
      "{}\n"
     ]
    }
   ],
   "source": [
    "# add or update a dict \n",
    "\n",
    "x['shrimp'] = 45\n",
    ".33\n",
    "print(x)\n",
    "\n",
    "del(x['shrimp'])\n",
    "print(x)\n",
    "\n",
    "x['beef'] = 55.22\n",
    "print(x)\n",
    "\n",
    "print(len(x))\n",
    "\n",
    "# delete all items from dict x\n",
    "\n",
    "x.clear()\n",
    "print(x)\n",
    "\n",
    "del(x)"
   ]
  },
  {
   "cell_type": "code",
   "execution_count": 54,
   "id": "d402a98c",
   "metadata": {},
   "outputs": [
    {
     "name": "stdout",
     "output_type": "stream",
     "text": [
      "dict_values(['grey', 'blue', 'white'])\n",
      "dict_keys(['Honda', 'BMW', 'Toyota'])\n",
      "dict_items([('Honda', 'grey'), ('BMW', 'blue'), ('Toyota', 'white')])\n",
      "True\n",
      "False\n"
     ]
    }
   ],
   "source": [
    "# accessing keys and values in dict \n",
    "\n",
    "y = {'Honda': \"grey\", \"BMW\":\"blue\", \"Toyota\": \"white\"}\n",
    "\n",
    "print(y.values())\n",
    "print(y.keys())\n",
    "print(y.items())\n",
    "\n",
    "\n",
    "print('BMW' in y)\n",
    "\n",
    "print('Nissan'in y.values())"
   ]
  },
  {
   "cell_type": "markdown",
   "id": "3ccda686",
   "metadata": {},
   "source": [
    "# iterating a dict "
   ]
  },
  {
   "cell_type": "code",
   "execution_count": 57,
   "id": "cc6d745a",
   "metadata": {},
   "outputs": [
    {
     "name": "stdout",
     "output_type": "stream",
     "text": [
      "Honda grey\n",
      "BMW blue\n",
      "Toyota white\n",
      "Honda grey\n",
      "BMW blue\n",
      "Toyota white\n"
     ]
    }
   ],
   "source": [
    "for key in y: \n",
    "    print(key, y[key])\n",
    "    \n",
    "for k, v in y.items():\n",
    "    print(k,v)"
   ]
  },
  {
   "cell_type": "code",
   "execution_count": 7,
   "id": "799c00d9",
   "metadata": {},
   "outputs": [
    {
     "ename": "TypeError",
     "evalue": "'tuple' object does not support item assignment",
     "output_type": "error",
     "traceback": [
      "\u001b[0;31m---------------------------------------------------------------------------\u001b[0m",
      "\u001b[0;31mTypeError\u001b[0m                                 Traceback (most recent call last)",
      "\u001b[0;32m<ipython-input-7-6098e0ff4830>\u001b[0m in \u001b[0;36m<module>\u001b[0;34m\u001b[0m\n\u001b[1;32m      5\u001b[0m \u001b[0;34m\u001b[0m\u001b[0m\n\u001b[1;32m      6\u001b[0m \u001b[0mname\u001b[0m \u001b[0;34m=\u001b[0m \u001b[0;34m(\u001b[0m\u001b[0;34m[\u001b[0m\u001b[0;34m\"dog\"\u001b[0m\u001b[0;34m]\u001b[0m\u001b[0;34m,\u001b[0m \u001b[0;34m\"cat\"\u001b[0m\u001b[0;34m,\u001b[0m \u001b[0;34m\"lion\"\u001b[0m\u001b[0;34m)\u001b[0m\u001b[0;34m\u001b[0m\u001b[0;34m\u001b[0m\u001b[0m\n\u001b[0;32m----> 7\u001b[0;31m \u001b[0mname\u001b[0m\u001b[0;34m[\u001b[0m\u001b[0;36m0\u001b[0m\u001b[0;34m]\u001b[0m \u001b[0;34m=\u001b[0m \u001b[0;34m[\u001b[0m\u001b[0;34m\"rat\"\u001b[0m\u001b[0;34m]\u001b[0m\u001b[0;34m\u001b[0m\u001b[0;34m\u001b[0m\u001b[0m\n\u001b[0m\u001b[1;32m      8\u001b[0m \u001b[0mname\u001b[0m\u001b[0;34m\u001b[0m\u001b[0;34m\u001b[0m\u001b[0m\n",
      "\u001b[0;31mTypeError\u001b[0m: 'tuple' object does not support item assignment"
     ]
    }
   ],
   "source": [
    "animals = [\"dog\", \"cat\", \"lion\"]\n",
    "\n",
    "animals[0] = \"rat\"\n",
    "animals \n",
    "\n",
    "name = ([\"dog\"], \"cat\", \"lion\")\n",
    "name[0] = [\"rat\"]\n",
    "name "
   ]
  }
 ],
 "metadata": {
  "kernelspec": {
   "display_name": "PythonData",
   "language": "python",
   "name": "pythondata"
  },
  "language_info": {
   "codemirror_mode": {
    "name": "ipython",
    "version": 3
   },
   "file_extension": ".py",
   "mimetype": "text/x-python",
   "name": "python",
   "nbconvert_exporter": "python",
   "pygments_lexer": "ipython3",
   "version": "3.7.10"
  }
 },
 "nbformat": 4,
 "nbformat_minor": 5
}
