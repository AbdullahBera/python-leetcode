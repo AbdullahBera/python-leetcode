{
 "cells": [
  {
   "cell_type": "code",
   "execution_count": 18,
   "id": "435d8279",
   "metadata": {},
   "outputs": [
    {
     "name": "stdout",
     "output_type": "stream",
     "text": [
      "[1, 11, 15, 21, 41, 64, 67, 87, 213]\n",
      "None\n"
     ]
    }
   ],
   "source": [
    "def mergeSort(myList): \n",
    "    if len(myList) > 1: \n",
    "        mid = len(myList) // 2 \n",
    "        left = myList[:mid]\n",
    "        right = myList[mid:]\n",
    "        \n",
    "        \n",
    "        # Recursive call on each half \n",
    "        mergeSort(left)\n",
    "        mergeSort(right)\n",
    "        \n",
    "        # Two iterators for traversing the two halves \n",
    "        i = 0 \n",
    "        j = 0\n",
    "        \n",
    "        # Iterator for the main list \n",
    "        k = 0\n",
    "        \n",
    "        while i < len(left) and j < len(right):\n",
    "            if left[i] <= right[j]:\n",
    "                # The value from the left half has been used \n",
    "                myList[k] = left[i]\n",
    "                # Move the iterator forward \n",
    "                i += 1 \n",
    "            else:\n",
    "                myList[k] = right[j]\n",
    "                j += 1\n",
    "                \n",
    "            # Move to the next slot \n",
    "            k += 1 \n",
    "            \n",
    "        # For all remaining values \n",
    "        while i < len(left): \n",
    "            myList[k] = left[i]\n",
    "            i += 1\n",
    "            k += 1 \n",
    "            \n",
    "        while j < len(right):\n",
    "            myList[k] = right[j]\n",
    "            j += 1 \n",
    "            k += 1\n",
    "            \n",
    "myList = [21, 213, 41, 11, 15, 64, 1, 67, 87]\n",
    "\n",
    "mergeSort(myList)\n",
    "\n",
    "print(myList)\n"
   ]
  },
  {
   "cell_type": "code",
   "execution_count": 20,
   "id": "c80d12e9",
   "metadata": {},
   "outputs": [
    {
     "name": "stdout",
     "output_type": "stream",
     "text": [
      "[1, 21, 212]\n",
      "[12, 12, 21]\n",
      "[1, 12, 12, 21, 21, 212]\n",
      "[1, 12, 12, 21, 21, 212]\n"
     ]
    }
   ],
   "source": [
    "myNumber = [1, 21, 212, 12 ,12, 21]\n",
    "\n",
    "\n",
    "mid = len(myNumber) // 2 \n",
    "\n",
    "left = myNumber[:mid]\n",
    "right = myNumber[mid:]\n",
    "print(left )\n",
    "print(right)\n",
    "\n",
    "\n",
    "print(sorted(myNumber))\n",
    "myNumber.sort()\n",
    "print(myNumber)"
   ]
  },
  {
   "cell_type": "code",
   "execution_count": 25,
   "id": "08dc77a3",
   "metadata": {},
   "outputs": [
    {
     "data": {
      "text/plain": [
       "[2, 213, 41, 11, 15, 64, 1, 67, 87]"
      ]
     },
     "execution_count": 25,
     "metadata": {},
     "output_type": "execute_result"
    }
   ],
   "source": [
    "myOption = [21, 213, 41, 11, 15, 64, 1, 67, 87]\n",
    "myOption[0] = 2\n",
    "myOption"
   ]
  }
 ],
 "metadata": {
  "kernelspec": {
   "display_name": "PythonData",
   "language": "python",
   "name": "pythondata"
  },
  "language_info": {
   "codemirror_mode": {
    "name": "ipython",
    "version": 3
   },
   "file_extension": ".py",
   "mimetype": "text/x-python",
   "name": "python",
   "nbconvert_exporter": "python",
   "pygments_lexer": "ipython3",
   "version": "3.7.10"
  }
 },
 "nbformat": 4,
 "nbformat_minor": 5
}
